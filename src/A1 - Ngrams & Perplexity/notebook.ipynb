{
  "nbformat": 4,
  "nbformat_minor": 0,
  "metadata": {
    "colab": {
      "name": "18EC35034_Assn1_NLP_A21.ipynb",
      "provenance": [],
      "collapsed_sections": []
    },
    "kernelspec": {
      "name": "python3",
      "display_name": "Python 3"
    },
    "language_info": {
      "name": "python"
    }
  },
  "cells": [
    {
      "cell_type": "markdown",
      "metadata": {
        "id": "4Z_wN2v1RT1F"
      },
      "source": [
        "# **Assignment-1 for CS60075: Natural Language Processing**\n",
        "\n",
        "#### Instructor : Prof. Sudeshna Sarkar\n",
        "\n",
        "#### Teaching Assistants : Alapan Kuila, Aniruddha Roy, Prithwish Jana, Udit Dharmin Desai\n",
        "\n",
        "#### Date of Announcement: 4th Sept, 2021\n",
        "#### Deadline for Submission: 11.59pm on Sunday, 12th Sept, 2021 \n",
        "\n",
        "#### (**NOTE**: Submit a .zip file, containing this .ipynb file, named as `<Your_Roll_Number>_Assn1_NLP_A21.ipynb` and the raw text corpus named `<Your_Roll_Number>_Assn1_rawCorpus.txt`. For example, if your roll number is 20XX12Y45, name the .ipynb file as `20XX12Y45_Assn1_NLP_A21.ipynb`. Name the .zip as `<Your_Roll_Number>_Assn1_NLP_A21.zip`. Write your code in the respective designated portion of the .ipynb. Also before submitting, make sure that all the outputs of your code are present in the .ipynb file itself.)"
      ]
    },
    {
      "cell_type": "markdown",
      "metadata": {
        "id": "3a35tmEySCx7"
      },
      "source": [
        "### **Submission Details:**\n",
        "Name: Utkarsh Patel\n",
        "\n",
        "Roll No.: 18EC35034\n",
        "\n",
        "Department: Electronics & Electrical Communication Engineering\n",
        "\n",
        "Email-ID: imutkarshpatel@gmail.com"
      ]
    },
    {
      "cell_type": "markdown",
      "metadata": {
        "id": "9weHMmyd8fnq"
      },
      "source": [
        "## **Reading a Raw Text Corpus**"
      ]
    },
    {
      "cell_type": "markdown",
      "metadata": {
        "id": "DmSy_LOK2aGQ"
      },
      "source": [
        "Retrieve & save raw corpus"
      ]
    },
    {
      "cell_type": "code",
      "metadata": {
        "id": "rku6rV2ORpZA",
        "colab": {
          "base_uri": "https://localhost:8080/"
        },
        "outputId": "0f0f8948-d48d-4569-bb4d-462199cf2e24"
      },
      "source": [
        "# To construct your corpus, retrieve (through Python code) Chapter I to Chapter X,\n",
        "# both inclusive, from the link below:\n",
        "# \"https://www.gutenberg.org/files/730/730-0.txt\"\n",
        "# Save this corpus in a text file, named as 'rawCorpus.txt'\n",
        "# Print the total number of characters in the text file \n",
        "\n",
        "# *** Write code ***\n",
        "!wget -O fullCorpus.txt https://www.gutenberg.org/files/730/730-0.txt \n",
        "with open('rawCorpus.txt', 'w', encoding='utf-8') as writer:\n",
        "    with open('fullCorpus.txt', 'r', encoding='utf-8') as reader:\n",
        "        trainData = ''.join(reader.readlines()[141:3155]) # Reading from Chapter 1 to 10\n",
        "        writer.write(trainData)"
      ],
      "execution_count": null,
      "outputs": [
        {
          "output_type": "stream",
          "name": "stdout",
          "text": [
            "--2021-09-12 15:23:44--  https://www.gutenberg.org/files/730/730-0.txt\n",
            "Resolving www.gutenberg.org (www.gutenberg.org)... 152.19.134.47, 2610:28:3090:3000:0:bad:cafe:47\n",
            "Connecting to www.gutenberg.org (www.gutenberg.org)|152.19.134.47|:443... connected.\n",
            "HTTP request sent, awaiting response... 200 OK\n",
            "Length: 955759 (933K) [text/plain]\n",
            "Saving to: ‘fullCorpus.txt’\n",
            "\n",
            "fullCorpus.txt      100%[===================>] 933.36K  4.56MB/s    in 0.2s    \n",
            "\n",
            "2021-09-12 15:23:44 (4.56 MB/s) - ‘fullCorpus.txt’ saved [955759/955759]\n",
            "\n"
          ]
        }
      ]
    },
    {
      "cell_type": "markdown",
      "metadata": {
        "id": "6KZIOy0Y2hzQ"
      },
      "source": [
        "Read the corpus"
      ]
    },
    {
      "cell_type": "code",
      "metadata": {
        "id": "DsdBJa_l2l7g",
        "colab": {
          "base_uri": "https://localhost:8080/"
        },
        "outputId": "1857cf18-3d91-4683-eb1f-908ea2f7af75"
      },
      "source": [
        "# Read the corpus from rawCorpus.txt, in a variable `rawReadCorpus`\n",
        "# *** Write code ***\n",
        "\n",
        "rawReadCorpus = open('rawCorpus.txt', 'r', encoding='utf-8').read()\n",
        "print (\"Total # of characters in read dataset: {}\".format(len(rawReadCorpus)))"
      ],
      "execution_count": null,
      "outputs": [
        {
          "output_type": "stream",
          "name": "stdout",
          "text": [
            "Total # of characters in read dataset: 148713\n"
          ]
        }
      ]
    },
    {
      "cell_type": "markdown",
      "metadata": {
        "id": "xhkmGsSoV0zG"
      },
      "source": [
        "## **Installing NLTK**\n",
        "\n",
        "The Natural Language Toolkit ([NLTK](https://www.nltk.org/)) is a Python module that is intended to support research and teaching in NLP or closely related areas. \n",
        "\n",
        "Detailed installation instructions to install NLTK can be found at this [link](https://www.nltk.org/install.html).\n",
        "\n",
        "To ensure uniformity, we suggest to use **python3**. You can download Anaconda3 and create a separate environment to do this assignment, eg.\n",
        "```bash\n",
        "conda create -n myenv python=3.6\n",
        "conda activate myenv\n",
        "```\n",
        "\n",
        "The link to anaconda3 for Windows and Linux is available here https://docs.anaconda.com/anaconda/install/. Subsequently, you can install NLTK through the following commands:\n",
        "```bash\n",
        "sudo pip3 install nltk \n",
        "python3 \n",
        "nltk.download()\n",
        "```"
      ]
    },
    {
      "cell_type": "markdown",
      "metadata": {
        "id": "utKtZeHq4N98"
      },
      "source": [
        "## **Preprocessing the corpus**"
      ]
    },
    {
      "cell_type": "code",
      "metadata": {
        "id": "2g7eO4Dm4jIn",
        "colab": {
          "base_uri": "https://localhost:8080/"
        },
        "outputId": "62bcb5dc-b503-4931-dd29-b9e23faa4c65"
      },
      "source": [
        "# Importing modules\n",
        "import nltk\n",
        "nltk.download('punkt') # For tokenizers\n",
        "from nltk.tokenize import word_tokenize, sent_tokenize, TweetTokenizer"
      ],
      "execution_count": null,
      "outputs": [
        {
          "output_type": "stream",
          "name": "stdout",
          "text": [
            "[nltk_data] Downloading package punkt to /root/nltk_data...\n",
            "[nltk_data]   Package punkt is already up-to-date!\n"
          ]
        }
      ]
    },
    {
      "cell_type": "markdown",
      "metadata": {
        "id": "5-LSUX__82Ff"
      },
      "source": [
        "**Tokenize into words and sentences, using NLTK library:** Using the NLTK modules imported above, retrieve a case-insensitive preprocessed model. Make sure to take care of words like \"\\_will\\_\" (that should ideally appear as \"will\"), \"wouldn't\" (that should ideally appear as a single word, and not multiple tokens) and other occurences of special cases that you find in the raw corpus. "
      ]
    },
    {
      "cell_type": "code",
      "metadata": {
        "id": "cWIzYXyz9Zt_",
        "colab": {
          "base_uri": "https://localhost:8080/"
        },
        "outputId": "2255c50f-80bd-47a8-f0cd-e3bcff4274a1"
      },
      "source": [
        "# *** Write code for preprocessing the corpus ***\n",
        "import re\n",
        "\n",
        "tknz = TweetTokenizer()\n",
        "\n",
        "corpus = rawReadCorpus.lower()\n",
        "corpus = re.sub(\"-\", \" \", corpus)         # replacing dash with space\n",
        "corpus = re.sub(\"\\s+\", \" \", corpus)       # converting whitepspaces, newlines, tabs to single space\n",
        "corpus = re.sub(\"\\u2018\", \"X\", corpus)    # encoding apostrophe to X\n",
        "corpus = re.sub(\"\\u2019\", \"X\", corpus)    # encoding apostrophe to X\n",
        "\n",
        "wordTokens_ = tknz.tokenize(corpus)\n",
        "sentTokens_ = sent_tokenize(corpus)\n",
        "\n",
        "for i in range(len(sentTokens_)):\n",
        "    sentTokens_[i] = ' '.join(tknz.tokenize(sentTokens_[i]))\n",
        "\n",
        "def cleanText(text):\n",
        "    return ''.join([x for x in text if x.isalnum() or x == ' ']) # Removing everything except alphanumeric character and single space\n",
        "\n",
        "wordTokens = list()\n",
        "for x in wordTokens_:\n",
        "    x = cleanText(x)\n",
        "    if len(x) > 0 and x != 'X':\n",
        "        x = x.replace('X', '\\'')\n",
        "        wordTokens.append(x)\n",
        "\n",
        "sentTokens = list()\n",
        "for x in sentTokens_:\n",
        "    x = cleanText(x)\n",
        "    x = re.sub(\"\\s+\", \" \", x)\n",
        "    x = x.strip()\n",
        "    if len(x) > 0 and x != 'X':\n",
        "        x = x.replace('X', '\\'')\n",
        "        sentTokens.append(x)\n",
        "\n",
        "# Print first 5 sentences of your preprocessed corpus *** Write code ***\n",
        "print('First 5 sentences in the corpus')\n",
        "for i in range(5):\n",
        "    print(f'{i + 1}: {sentTokens[i]}')\n",
        "\n",
        "# Print first 5 words/tokens of your preprocessed corpus *** Write code ***\n",
        "print('\\nFirst 5 words/tokens in the corpus')\n",
        "for i in range(5):\n",
        "    print(f'{i + 1}: {wordTokens[i]}')"
      ],
      "execution_count": null,
      "outputs": [
        {
          "output_type": "stream",
          "name": "stdout",
          "text": [
            "First 5 sentences in the corpus\n",
            "1: chapter i treats of the place where oliver twist was born and of the circumstances attending his birth among other public buildings in a certain town which for many reasons it will be prudent to refrain from mentioning and to which i will assign no fictitious name there is one anciently common to most towns great or small to wit a workhouse and in this workhouse was born on a day and date which i need not trouble myself to repeat inasmuch as it can be of no possible consequence to the reader in this stage of the business at all events the item of mortality whose name is prefixed to the head of this chapter\n",
            "2: for a long time after it was ushered into this world of sorrow and trouble by the parish surgeon it remained a matter of considerable doubt whether the child would survive to bear any name at all in which case it is somewhat more than probable that these memoirs would never have appeared or if they had that being comprised within a couple of pages they would have possessed the inestimable merit of being the most concise and faithful specimen of biography extant in the literature of any age or country\n",
            "3: although i am not disposed to maintain that the being born in a workhouse is in itself the most fortunate and enviable circumstance that can possibly befall a human being i do mean to say that in this particular instance it was the best thing for oliver twist that could by possibility have occurred\n",
            "4: the fact is that there was considerable difficulty in inducing oliver to take upon himself the office of respiration a troublesome practice but one which custom has rendered necessary to our easy existence and for some time he lay gasping on a little flock mattress rather unequally poised between this world and the next the balance being decidedly in favour of the latter\n",
            "5: now if during this brief period oliver had been surrounded by careful grandmothers anxious aunts experienced nurses and doctors of profound wisdom he would most inevitably and indubitably have been killed in no time\n",
            "\n",
            "First 5 words/tokens in the corpus\n",
            "1: chapter\n",
            "2: i\n",
            "3: treats\n",
            "4: of\n",
            "5: the\n"
          ]
        }
      ]
    },
    {
      "cell_type": "markdown",
      "metadata": {
        "id": "eZ75_a1QL70J"
      },
      "source": [
        "**Perform the following tasks for the given corpus:**\n",
        "1. Print the average number of tokens per sentence.\n",
        "2. Print the length of the longest and the shortest sentence, that contains the word 'Oliver' ('Oliver' is case-insensitive).\n",
        "3. Print the number of unique tokens in the corpus, after stopword removal using the stopwords from NLTK (case-insensitive)."
      ]
    },
    {
      "cell_type": "code",
      "metadata": {
        "id": "pyG0g3oSADmV",
        "colab": {
          "base_uri": "https://localhost:8080/"
        },
        "outputId": "1529e4e4-24e3-4300-f359-661fe18b34af"
      },
      "source": [
        "# Importing modules\n",
        "nltk.download('stopwords')\n",
        "from nltk.corpus import stopwords"
      ],
      "execution_count": null,
      "outputs": [
        {
          "output_type": "stream",
          "name": "stdout",
          "text": [
            "[nltk_data] Downloading package stopwords to /root/nltk_data...\n",
            "[nltk_data]   Package stopwords is already up-to-date!\n"
          ]
        }
      ]
    },
    {
      "cell_type": "code",
      "metadata": {
        "id": "ydHIxC7lG7Py",
        "colab": {
          "base_uri": "https://localhost:8080/"
        },
        "outputId": "28c29690-b939-461b-e419-f5eaa2ce38c1"
      },
      "source": [
        "# *** Write code for the 2 tasks above ***\n",
        "avgTokens = 0\n",
        "for x in sentTokens:\n",
        "    avgTokens += len(x.split())\n",
        "avgTokens /= len(sentTokens)\n",
        "print(f'Average number of tokens per sentence = {avgTokens}\\n')\n",
        "\n",
        "minLength = 10 ** 100\n",
        "maxLength = 0\n",
        "pattern = 'oliver'\n",
        "for x in sentTokens:\n",
        "    if pattern in x:\n",
        "        minLength = min(minLength, len(x.split()))\n",
        "        maxLength = max(maxLength, len(x.split()))\n",
        "print(f'Length of the longest and the shortest sentence (containing {pattern}) are {maxLength} and {minLength} respectively\\n')\n",
        "\n",
        "stopWords = set(stopwords.words('english'))\n",
        "uniqueTokens = set()\n",
        "for token in wordTokens:\n",
        "    if token in stopWords:\n",
        "        continue\n",
        "    uniqueTokens.add(token)\n",
        "print(f'Number of unique tokens in the corpus (after stopwords removal) is {len(uniqueTokens)}')"
      ],
      "execution_count": null,
      "outputs": [
        {
          "output_type": "stream",
          "name": "stdout",
          "text": [
            "Average number of tokens per sentence = 24.13528336380256\n",
            "\n",
            "Length of the longest and the shortest sentence (containing oliver) are 116 and 2 respectively\n",
            "\n",
            "Number of unique tokens in the corpus (after stopwords removal) is 4065\n"
          ]
        }
      ]
    },
    {
      "cell_type": "markdown",
      "metadata": {
        "id": "X5RiDR7TJjKX"
      },
      "source": [
        "## **Language Modeling**"
      ]
    },
    {
      "cell_type": "markdown",
      "metadata": {
        "id": "UJeTSt8HM95L"
      },
      "source": [
        "### Task: In this sub-task, you are expected to carry out the following tasks:\n",
        "\n",
        "1. **Create the following language models** on the given corpus: <br>\n",
        "    i.   Unigram <br>\n",
        "    ii.  Bigram <br>\n",
        "    iii. Trigram <br>\n",
        "\n",
        "2. **List the top 10 bigrams, trigrams**\n",
        "(Additionally remove those items which contain only articles, prepositions, determiners eg. \"of the\", \"in a\", etc. List top-10 bigrams/trigrams in both the original and processed models)."
      ]
    },
    {
      "cell_type": "code",
      "metadata": {
        "id": "DlPXGvVaR-ka",
        "colab": {
          "base_uri": "https://localhost:8080/"
        },
        "outputId": "55679297-a9e7-4211-ca27-3154f920339c"
      },
      "source": [
        "from nltk.util import ngrams\n",
        "\n",
        "vocab = set()\n",
        "\n",
        "unigrams=[]\n",
        "bigrams=[]\n",
        "trigrams=[]\n",
        "\n",
        "def convertXtoApos(x: list) -> list:\n",
        "    y = list()\n",
        "    for v in x:\n",
        "        y.append(v.replace('X', '\\''))\n",
        "    return y\n",
        "\n",
        "for token in sentTokens:\n",
        "    token = token.replace('\\'', 'X')\n",
        "    modifiedToken = '<s> ' + token + ' </s>'\n",
        "    content = convertXtoApos(tknz.tokenize(modifiedToken))\n",
        "    for tkn in content:\n",
        "        vocab.add(tkn)\n",
        "    unigrams.extend(content)\n",
        "    bigrams.extend(ngrams(content, 2))\n",
        "    ##similar for trigrams\n",
        "    trigrams.extend(ngrams(content, 3))\n",
        "    # *** Write code ***\n",
        "\n",
        "print (\"Sample of n-grams:\\n\" + \"-------------------------\")\n",
        "print (\"--> UNIGRAMS: \\n\" + str(unigrams[:5]) + \" ...\\n\")\n",
        "print (\"--> BIGRAMS: \\n\" + str(bigrams[:5]) + \" ...\\n\")\n",
        "print (\"--> TRIGRAMS: \\n\" + str(trigrams[:5]) + \" ...\\n\")\n",
        "\n",
        "# list of unigram, bigram & trigram after removing those that \n",
        "# totally contain only articles, prepositions, determiners\n",
        "# Eg. For bigrams, don't remove items like (\"a\", \"boy\") --> where not all are \n",
        "#     articles, prepositions, determiners\n",
        "#     But remove items like (\"in\", \"the\") --> where all are articles, prepositions, determiners\n",
        "# Similarly, for unigrams and trigrams\n",
        "\n",
        "from copy import deepcopy\n",
        "\n",
        "badWords = deepcopy(stopWords)\n",
        "badWords.add('<s>')\n",
        "badWords.add('</s>')\n",
        "badWords.add('<unk>')\n",
        "\n",
        "isBad = lambda x: x in badWords\n",
        "\n",
        "unigrams_Processed = [x for x in unigrams if not isBad(x)]\n",
        "bigrams_Processed = [x for x in bigrams if not (isBad(x[0]) and isBad(x[1]))]\n",
        "trigrams_Processed = [x for x in trigrams if not (isBad(x[0]) and isBad(x[1]) and isBad(x[2]))]\n",
        "\n",
        "print (\"Sample of n-grams after processing:\\n\" + \"-------------------------\")\n",
        "print (\"--> UNIGRAMS: \\n\" + str(unigrams_Processed[:5]) + \" ...\\n\")\n",
        "print (\"--> BIGRAMS: \\n\" + str(bigrams_Processed[:5]) + \" ...\\n\")\n",
        "print (\"--> TRIGRAMS: \\n\" + str(trigrams_Processed[:5]) + \" ...\\n\")\n",
        "\n",
        "def get_ngrams_freqDist(n, ngramList):\n",
        "    #This function computes the frequency corresponding to each ngram in ngramList \n",
        "    #Here, n=1 for unigram, n=2 for bigram, etc.\n",
        "    #ngramList = list of unigrams when n=1, ngramList = list of bigrams when n=2\n",
        "    #Returns: ngram_freq_dict (a Python dictionary where key = a ngram, value = its frequency)\n",
        "    \n",
        "    # *** Write code ***\n",
        "    ngram_freq_dict = dict()\n",
        "    for ngram in ngramList:\n",
        "        try:\n",
        "            ngram_freq_dict[ngram] += 1\n",
        "        except:\n",
        "            ngram_freq_dict[ngram] = 1\n",
        "    \n",
        "    return ngram_freq_dict\n",
        "\n",
        "unigrams_freqDist = get_ngrams_freqDist(1, unigrams)\n",
        "unigrams_Processed_freqDist = get_ngrams_freqDist(1, unigrams_Processed)\n",
        "bigrams_freqDist = get_ngrams_freqDist(2, bigrams_Processed)\n",
        "bigrams_Processed_freqDist = get_ngrams_freqDist(2, bigrams_Processed)\n",
        "trigrams_freqDist = get_ngrams_freqDist(3, trigrams_Processed)\n",
        "trigrams_Processed_freqDist = get_ngrams_freqDist(3, trigrams_Processed)  \n",
        "\n",
        "def getTopTokens(tokens, n):\n",
        "    s = list()\n",
        "    for token, count in tokens.items():\n",
        "        s.append((count, token))\n",
        "    s = sorted(s, reverse=True)\n",
        "    for i in range(n):\n",
        "        print(f'{s[i][1]} ({s[i][0]})')\n",
        "\n",
        "# Print top 10 unigrams, having highest frequency as in unigrams_freqDist\n",
        "# *** Write code ***\n",
        "print('Top 10 unigrams as in unigrams_freqDist are:')\n",
        "getTopTokens(unigrams_freqDist, 10)\n",
        "print('-' * 50 + '\\n')\n",
        "\n",
        "# Print top 10 unigrams, having highest frequency as in unigrams_Processed_freqDist\n",
        "# *** Write code ***\n",
        "print('Top 10 unigrams as in unigrams_Processed_freqDist are:')\n",
        "getTopTokens(unigrams_Processed_freqDist, 10)\n",
        "print('-' * 50 + '\\n')\n",
        "\n",
        "# Print top 10 bigrams, having highest frequency as in bigrams_freqDist\n",
        "# *** Write code ***\n",
        "print('Top 10 bigrams as in bigrams_freqDist are:')\n",
        "getTopTokens(bigrams_freqDist, 10)\n",
        "print('-' * 50 + '\\n')\n",
        "\n",
        "# Print top 10 bigrams, having highest frequency as in bigrams_Processed_freqDist\n",
        "# *** Write code ***\n",
        "print('Top 10 bigrams as in bigrams_Processed_freqDist are:')\n",
        "getTopTokens(bigrams_Processed_freqDist, 10)\n",
        "print('-' * 50 + '\\n')\n",
        "\n",
        "# Print top 10 trigrams, having highest frequency as in trigrams_freqDist\n",
        "# *** Write code ***\n",
        "print('Top 10 trigrams as in trigrams_freqDist are:')\n",
        "getTopTokens(trigrams_freqDist, 10)\n",
        "print('-' * 50 + '\\n')\n",
        "\n",
        "# Print top 10 trigrams, having highest frequency as in trigrams_Processed_freqDist\n",
        "# *** Write code ***\n",
        "print('Top 10 trigrams as in trigrams_Processed_freqDist are:')\n",
        "getTopTokens(trigrams_Processed_freqDist, 10)\n",
        "print('-' * 50 + '\\n')\n"
      ],
      "execution_count": null,
      "outputs": [
        {
          "output_type": "stream",
          "name": "stdout",
          "text": [
            "Sample of n-grams:\n",
            "-------------------------\n",
            "--> UNIGRAMS: \n",
            "['<s>', 'chapter', 'i', 'treats', 'of'] ...\n",
            "\n",
            "--> BIGRAMS: \n",
            "[('<s>', 'chapter'), ('chapter', 'i'), ('i', 'treats'), ('treats', 'of'), ('of', 'the')] ...\n",
            "\n",
            "--> TRIGRAMS: \n",
            "[('<s>', 'chapter', 'i'), ('chapter', 'i', 'treats'), ('i', 'treats', 'of'), ('treats', 'of', 'the'), ('of', 'the', 'place')] ...\n",
            "\n",
            "Sample of n-grams after processing:\n",
            "-------------------------\n",
            "--> UNIGRAMS: \n",
            "['chapter', 'treats', 'place', 'oliver', 'twist'] ...\n",
            "\n",
            "--> BIGRAMS: \n",
            "[('<s>', 'chapter'), ('chapter', 'i'), ('i', 'treats'), ('treats', 'of'), ('the', 'place')] ...\n",
            "\n",
            "--> TRIGRAMS: \n",
            "[('<s>', 'chapter', 'i'), ('chapter', 'i', 'treats'), ('i', 'treats', 'of'), ('treats', 'of', 'the'), ('of', 'the', 'place')] ...\n",
            "\n",
            "Top 10 unigrams as in unigrams_freqDist are:\n",
            "the (1709)\n",
            "<s> (1094)\n",
            "</s> (1094)\n",
            "and (868)\n",
            "a (721)\n",
            "of (674)\n",
            "to (626)\n",
            "his (455)\n",
            "he (452)\n",
            "in (445)\n",
            "--------------------------------------------------\n",
            "\n",
            "Top 10 unigrams as in unigrams_Processed_freqDist are:\n",
            "oliver (279)\n",
            "said (212)\n",
            "mr (191)\n",
            "bumble (124)\n",
            "gentleman (102)\n",
            "old (89)\n",
            "boy (88)\n",
            "sowerberry (79)\n",
            "would (77)\n",
            "replied (74)\n",
            "--------------------------------------------------\n",
            "\n",
            "Top 10 bigrams as in bigrams_freqDist are:\n",
            "('mr', 'bumble') (108)\n",
            "('said', 'the') (90)\n",
            "('the', 'old') (53)\n",
            "('old', 'gentleman') (39)\n",
            "('the', 'undertaker') (37)\n",
            "('<s>', 'oliver') (37)\n",
            "('the', 'boy') (35)\n",
            "('said', 'mr') (35)\n",
            "('mrs', 'sowerberry') (34)\n",
            "('the', 'jew') (33)\n",
            "--------------------------------------------------\n",
            "\n",
            "Top 10 bigrams as in bigrams_Processed_freqDist are:\n",
            "('mr', 'bumble') (108)\n",
            "('said', 'the') (90)\n",
            "('the', 'old') (53)\n",
            "('old', 'gentleman') (39)\n",
            "('the', 'undertaker') (37)\n",
            "('<s>', 'oliver') (37)\n",
            "('the', 'boy') (35)\n",
            "('said', 'mr') (35)\n",
            "('mrs', 'sowerberry') (34)\n",
            "('the', 'jew') (33)\n",
            "--------------------------------------------------\n",
            "\n",
            "Top 10 trigrams as in trigrams_freqDist are:\n",
            "('the', 'old', 'gentleman') (29)\n",
            "('gentleman', 'in', 'the') (22)\n",
            "('the', 'white', 'waistcoat') (20)\n",
            "('the', 'gentleman', 'in') (20)\n",
            "('said', 'mr', 'bumble') (19)\n",
            "('in', 'the', 'white') (18)\n",
            "('said', 'the', 'undertaker') (15)\n",
            "('said', 'the', 'jew') (14)\n",
            "('said', 'the', 'gentleman') (14)\n",
            "('mr', 'bumble', '</s>') (13)\n",
            "--------------------------------------------------\n",
            "\n",
            "Top 10 trigrams as in trigrams_Processed_freqDist are:\n",
            "('the', 'old', 'gentleman') (29)\n",
            "('gentleman', 'in', 'the') (22)\n",
            "('the', 'white', 'waistcoat') (20)\n",
            "('the', 'gentleman', 'in') (20)\n",
            "('said', 'mr', 'bumble') (19)\n",
            "('in', 'the', 'white') (18)\n",
            "('said', 'the', 'undertaker') (15)\n",
            "('said', 'the', 'jew') (14)\n",
            "('said', 'the', 'gentleman') (14)\n",
            "('mr', 'bumble', '</s>') (13)\n",
            "--------------------------------------------------\n",
            "\n"
          ]
        }
      ]
    },
    {
      "cell_type": "markdown",
      "metadata": {
        "id": "Lqu8nVV7NREo"
      },
      "source": [
        "## **Next three words' Prediction using Smoothed Models**"
      ]
    },
    {
      "cell_type": "markdown",
      "metadata": {
        "id": "a2vnIM26b2WA"
      },
      "source": [
        "For a bigram model, add-one smoothing is defined by $P_{Add-1}(w_i|w_{i-1})=\\frac{count(w_{i-1},w_i)+1}{count(w_{i-1})+V}$.\n",
        "That is, pretend we saw each word one more time than we did.\n",
        "\n",
        "You have two tasks here.\n",
        "\n",
        "First, compute the smoothed bigram and trigram models from the bigrams_freqDist and trigrams_freqDist you calculated above (use the unprocessed models). Second, using these smoothed models, predict the next 3 possible word sequences for testSent1, testSent2 and testSent3, using your smoothed models.\n",
        "\n",
        "As for example, for the string 'Raj has a' the answers can be as below: \n",
        "\n",
        "(1) Raj has a **beautiful red car**\n",
        "\n",
        "(2) Raj has a **charismatic magnetic personality**"
      ]
    },
    {
      "cell_type": "code",
      "metadata": {
        "id": "qAGB1_S8NThy"
      },
      "source": [
        "testSent1 = \"There was a sudden jerk, a terrific convulsion of the limbs; and there he\"\n",
        "testSent2 = \"They made room for the stranger, but he sat down\"\n",
        "testSent3 = \"The hungry and destitute situation of the infant orphan was duly reported by\""
      ],
      "execution_count": null,
      "outputs": []
    },
    {
      "cell_type": "code",
      "metadata": {
        "id": "yLY1ymH-ZuJu",
        "colab": {
          "base_uri": "https://localhost:8080/"
        },
        "outputId": "d9c5009d-c0b0-4fa2-91a0-18f6e1154fc6"
      },
      "source": [
        "# *** Write code ***\n",
        "\n",
        "def normalize(text, leftPad=False, rightPad=False):\n",
        "    text = text.lower()\n",
        "    text = re.sub(\"-\", \" \", text)\n",
        "    text = re.sub(\"\\s+\", \" \", text)\n",
        "    text = re.sub(\"\\u2018\", \"X\", text)\n",
        "    text = re.sub(\"\\u2019\", \"X\", text)\n",
        "    text = tknz.tokenize(text)\n",
        "    text = [cleanText(x) for x in text if len(cleanText(x)) > 0]\n",
        "    text = convertXtoApos(text)\n",
        "    text = [(x if x in vocab else '<unk>') for x in text]\n",
        "    if leftPad:\n",
        "        text = ['<s>'] + text\n",
        "    if rightPad:\n",
        "        text = text + ['</s>']\n",
        "    return text\n",
        "\n",
        "def predictWithUnigramModel(text):\n",
        "    s = None\n",
        "    maxCount = -1\n",
        "    for token in vocab:\n",
        "        if token != '<s>':\n",
        "            count = unigrams_freqDist[token] if token in unigrams_freqDist.keys() else 0\n",
        "            if count > maxCount:\n",
        "                maxCount = count\n",
        "                s = token\n",
        "    text.append(s)\n",
        "    return text\n",
        "\n",
        "def predictWithUnigramModel_(text):\n",
        "    text = normalize(text, leftPad=True)\n",
        "    for i in range(3):\n",
        "        text = predictWithUnigramModel(text)\n",
        "    return ' '.join(text)\n",
        "\n",
        "def predictWithBigramModel(text):\n",
        "    s = None\n",
        "    maxCount = -1\n",
        "    for token in vocab:\n",
        "        if token != '<s>':\n",
        "            pair = (text[-1], token)\n",
        "            count = bigrams_freqDist[pair] if pair in bigrams_freqDist.keys() else 0\n",
        "            if count > maxCount:\n",
        "                maxCount = count\n",
        "                s = token\n",
        "    text.append(s)\n",
        "    return text\n",
        "\n",
        "def predictWithBigramModel_(text):\n",
        "    text = normalize(text, leftPad=True)\n",
        "    for i in range(3):\n",
        "        text = predictWithBigramModel(text)\n",
        "    return ' '.join(text)\n",
        "\n",
        "def predictWithTrigramModel(text):\n",
        "    s = None\n",
        "    maxCount = -1\n",
        "    for token in vocab:\n",
        "        if token != '<s>':\n",
        "            triplet = (text[-2], text[-1], token)\n",
        "            count = trigrams_freqDist[triplet] if triplet in trigrams_freqDist.keys() else 0\n",
        "            if count > maxCount:\n",
        "                maxCount = count\n",
        "                s = token\n",
        "    text.append(s)\n",
        "    return text\n",
        "\n",
        "def predictWithTrigramModel_(text):\n",
        "    text = normalize(text, leftPad=True)\n",
        "    for i in range(3):\n",
        "        text = predictWithTrigramModel(text)\n",
        "    return ' '.join(text)\n",
        "\n",
        "func = [predictWithUnigramModel_, predictWithBigramModel_, predictWithTrigramModel_]\n",
        "desc = ['unigram model', 'bigram model', 'trigram model']\n",
        "\n",
        "text = [testSent1, testSent2, testSent3]\n",
        "\n",
        "for i in range(3):\n",
        "    print(f'Input: {text[i]}')\n",
        "    print('Predictions:')\n",
        "    for j in range(3):\n",
        "        print(f'\\t{desc[j]}: {func[j](text[i])}')\n",
        "    print('-' * 50 + '\\n')"
      ],
      "execution_count": null,
      "outputs": [
        {
          "output_type": "stream",
          "name": "stdout",
          "text": [
            "Input: There was a sudden jerk, a terrific convulsion of the limbs; and there he\n",
            "Predictions:\n",
            "\tunigram model: <s> there was a sudden <unk> a <unk> <unk> of the <unk> and there he the the the\n",
            "\tbigram model: <s> there was a sudden <unk> a <unk> <unk> of the <unk> and there he would have determined\n",
            "\ttrigram model: <s> there was a sudden <unk> a <unk> <unk> of the <unk> and there he stood for a\n",
            "--------------------------------------------------\n",
            "\n",
            "Input: They made room for the stranger, but he sat down\n",
            "Predictions:\n",
            "\tunigram model: <s> they made room for the stranger but he sat down the the the\n",
            "\tbigram model: <s> they made room for the stranger but he sat down upon the old\n",
            "\ttrigram model: <s> they made room for the stranger but he sat down to breakfast </s>\n",
            "--------------------------------------------------\n",
            "\n",
            "Input: The hungry and destitute situation of the infant orphan was duly reported by\n",
            "Predictions:\n",
            "\tunigram model: <s> the hungry and destitute situation of the infant orphan was duly reported by the the the\n",
            "\tbigram model: <s> the hungry and destitute situation of the infant orphan was duly reported by mr bumble </s>\n",
            "\ttrigram model: <s> the hungry and destitute situation of the infant orphan was duly reported by the side of\n",
            "--------------------------------------------------\n",
            "\n"
          ]
        }
      ]
    },
    {
      "cell_type": "markdown",
      "metadata": {
        "id": "rxfeaacTdO6h"
      },
      "source": [
        "Check the presence of these sentences in the original corpus at https://www.gutenberg.org/files/730/730-0.txt . How did your smoothed models perform in comparison to the original sentences? Compare them below.\n",
        "\n",
        "Did you notice something special about testSent3, in comparison to testSent1 and testSent2? If yes, what is it? Can you explain it?\n",
        "\n"
      ]
    },
    {
      "cell_type": "markdown",
      "metadata": {
        "id": "nFMkW9hKecxK"
      },
      "source": [
        "  - - - - - - - - - -\n",
        "## Example 1\n",
        "* __Original__\n",
        "```\n",
        "There was a sudden jerk, a terrific convulsion of the limbs; and there he [hung, with the]\n",
        "```\n",
        "* __Unigram Model__\n",
        " ```\n",
        "<s> there was a sudden <unk> a <unk> <unk> of the <unk> and there he [the the the]\n",
        " ```\n",
        "* __Bigram Model__\n",
        "```\n",
        "<s> there was a sudden <unk> a <unk> <unk> of the <unk> and there he [would have determined]\n",
        "```\n",
        "* __Trigram Model__\n",
        "```\n",
        "<s> there was a sudden <unk> a <unk> <unk> of the <unk> and there he [stood in the]\n",
        "```\n",
        "--------------------------------------------------\n",
        "## Example 2\n",
        "* __Original__ \n",
        "```\n",
        "They made room for the stranger, but he sat down [in the furthest]\n",
        "```\n",
        "* __Unigram Model__\n",
        "```\n",
        "<s> they made room for the stranger but he sat down [the the the]\n",
        "```\n",
        "* __Bigram Model__\n",
        "```\n",
        "<s> they made room for the stranger but he sat down [upon the old]\n",
        "```\n",
        "* __Trigram Model__\n",
        "```\n",
        "<s> they made room for the stranger but he sat down [to rest by]\n",
        "```\n",
        "--------------------------------------------------\n",
        "## Example 3\n",
        "* __Original__\n",
        "```\n",
        "The hungry and destitute situation of the infant orphan was duly reported by [the workhouse authorities] \n",
        "```\n",
        "* __Unigram Model__\n",
        "```\n",
        "<s> the hungry and destitute situation of the infant orphan was duly reported by [the the the]\n",
        "```\n",
        "* __Bigram Model__\n",
        "```\n",
        "<s> the hungry and destitute situation of the infant orphan was duly reported by [mr bumble </s>]\n",
        "```\n",
        "* __Trigram Model__\n",
        "```\n",
        "<s> the hungry and destitute situation of the infant orphan was duly reported by [the side of]\n",
        "```\n",
        "--------------------------------------------------\n",
        "   - - - - - - - - - -"
      ]
    },
    {
      "cell_type": "markdown",
      "metadata": {
        "id": "vVBMcaAJXR9S"
      },
      "source": [
        "Which of the three models you generated above (unigram, bigram, trigram) is better in terms of **perplexity**, for the three test sentences (unseen data)? Write a piece of code to justify your answer. "
      ]
    },
    {
      "cell_type": "code",
      "metadata": {
        "colab": {
          "base_uri": "https://localhost:8080/"
        },
        "id": "wQG8IgMB_NQq",
        "outputId": "71b1b404-c003-484c-fb47-7640546c16e1"
      },
      "source": [
        "class TokenizationError(Exception):\n",
        "    pass\n",
        "\n",
        "totalCount = 0\n",
        "for token in vocab:\n",
        "    if token in unigrams_freqDist.keys():\n",
        "        totalCount += unigrams_freqDist[token]\n",
        "\n",
        "def calcProbability(tokens):\n",
        "    if len(tokens) == 1:\n",
        "        # via unigram model\n",
        "        token1 = tokens[0]\n",
        "        denominator = totalCount + len(vocab) + 1 # Extra 1 for OOV token\n",
        "        numerator = 1\n",
        "        if token1 in vocab:\n",
        "            numerator += unigrams_freqDist[token1]\n",
        "        return numerator / denominator\n",
        "    \n",
        "    elif len(tokens) == 2:\n",
        "        token1, token2 = tokens\n",
        "        denominator = len(vocab) + 1\n",
        "        if token1 in vocab:\n",
        "            denominator += unigrams_freqDist[token1]\n",
        "        numerator = 1\n",
        "        if tokens in bigrams_freqDist.keys():\n",
        "            numerator += bigrams_freqDist[tokens]\n",
        "        return numerator / denominator\n",
        "    \n",
        "    elif len(tokens) == 3:\n",
        "        token1, token2, token3 = tokens\n",
        "        denominator = len(vocab) + 1\n",
        "        if (token1, token2) in bigrams_freqDist.keys():\n",
        "            denominator += bigrams_freqDist[(token1, token2)]\n",
        "        numerator = 1\n",
        "        if tokens in trigrams_freqDist.keys():\n",
        "            numerator += trigrams_freqDist[tokens]\n",
        "        return numerator / denominator\n",
        "    \n",
        "    else:\n",
        "        raise TokenizationError('Size of passed tokens > 3')\n",
        "\n",
        "\n",
        "def calcPerplexityWithUnigramModel(text):\n",
        "    text = normalize(text, leftPad=True, rightPad=True)\n",
        "    perplexity = 1\n",
        "    for i in range(1, len(text) - 1):\n",
        "        perplexity /= calcProbability((text[i],))\n",
        "    perplexity **= (1. / len(text))\n",
        "    return perplexity \n",
        "\n",
        "def calcPerplexityWithBigramModel(text):\n",
        "    text = normalize(text, leftPad=True, rightPad=True)\n",
        "    perplexity = 1\n",
        "    for i in range(len(text) - 1):\n",
        "        perplexity /= calcProbability((text[i], text[i + 1]))\n",
        "    perplexity **= (1. / len(text))\n",
        "    return perplexity\n",
        "\n",
        "def calcPerplexityWithTrigramModel(text):\n",
        "    text = normalize(text, leftPad=True, rightPad=True)\n",
        "    perplexity = 1\n",
        "    perplexity /= calcProbability((text[0], text[1]))\n",
        "    for i in range(len(text) - 2):\n",
        "        perplexity /= calcProbability((text[i], text[i + 1], text[i + 2]))\n",
        "    perplexity **= (1. / len(text))\n",
        "    return perplexity\n",
        "\n",
        "perplexityFunc = [calcPerplexityWithUnigramModel, calcPerplexityWithBigramModel, calcPerplexityWithTrigramModel]\n",
        "\n",
        "for i in range(3):\n",
        "    print(f'Sentence: {text[i]}')\n",
        "    print(f'Tokens: {normalize(text[i], leftPad=True, rightPad=True)}')\n",
        "    print('Perplexity Calculation:')\n",
        "    for j in range(3):\n",
        "        print(f'\\t{desc[j]}: {perplexityFunc[j](text[i])}')\n",
        "    print('-' * 50 + '\\n')"
      ],
      "execution_count": null,
      "outputs": [
        {
          "output_type": "stream",
          "name": "stdout",
          "text": [
            "Sentence: There was a sudden jerk, a terrific convulsion of the limbs; and there he\n",
            "Tokens: ['<s>', 'there', 'was', 'a', 'sudden', '<unk>', 'a', '<unk>', '<unk>', 'of', 'the', '<unk>', 'and', 'there', 'he', '</s>']\n",
            "Perplexity Calculation:\n",
            "\tunigram model: 269.30679947965837\n",
            "\tbigram model: 2509.0032813509256\n",
            "\ttrigram model: 2536.000025772641\n",
            "--------------------------------------------------\n",
            "\n",
            "Sentence: They made room for the stranger, but he sat down\n",
            "Tokens: ['<s>', 'they', 'made', 'room', 'for', 'the', 'stranger', 'but', 'he', 'sat', 'down', '</s>']\n",
            "Perplexity Calculation:\n",
            "\tunigram model: 163.96389809523984\n",
            "\tbigram model: 1457.694807105916\n",
            "\ttrigram model: 1844.882164994669\n",
            "--------------------------------------------------\n",
            "\n",
            "Sentence: The hungry and destitute situation of the infant orphan was duly reported by\n",
            "Tokens: ['<s>', 'the', 'hungry', 'and', 'destitute', 'situation', 'of', 'the', 'infant', 'orphan', 'was', 'duly', 'reported', 'by', '</s>']\n",
            "Perplexity Calculation:\n",
            "\tunigram model: 310.89646958878325\n",
            "\tbigram model: 1418.3302869205431\n",
            "\ttrigram model: 1408.4201225990385\n",
            "--------------------------------------------------\n",
            "\n"
          ]
        }
      ]
    },
    {
      "cell_type": "code",
      "metadata": {
        "id": "Odq4Ov0hiHmV"
      },
      "source": [
        ""
      ],
      "execution_count": null,
      "outputs": []
    }
  ]
}